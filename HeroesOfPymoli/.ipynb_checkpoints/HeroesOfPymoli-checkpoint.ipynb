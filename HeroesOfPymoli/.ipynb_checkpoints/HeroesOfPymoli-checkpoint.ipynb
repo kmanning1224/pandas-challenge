{
 "cells": [
  {
   "cell_type": "markdown",
   "metadata": {},
   "source": [
    "### Note\n",
    "* Instructions have been included for each segment. You do not have to follow them exactly, but they are included to help you think through the steps."
   ]
  },
  {
   "cell_type": "code",
   "execution_count": 1,
   "metadata": {},
   "outputs": [],
   "source": [
    "# Dependencies and Setup\n",
    "import pandas as pd\n",
    "\n",
    "\n",
    "# File to Load (Remember to Change These)\n",
    "file_to_load = \"Resources/purchase_data.csv\"\n",
    "\n",
    "# Read Purchasing File and store into Pandas data frame\n",
    "purchase_df = pd.read_csv(file_to_load)"
   ]
  },
  {
   "cell_type": "markdown",
   "metadata": {},
   "source": [
    "## Player Count"
   ]
  },
  {
   "cell_type": "markdown",
   "metadata": {},
   "source": [
    "* Display the total number of players\n"
   ]
  },
  {
   "cell_type": "code",
   "execution_count": 2,
   "metadata": {},
   "outputs": [
    {
     "data": {
      "text/plain": [
       "Index(['Purchase ID', 'SN', 'Age', 'Gender', 'Item ID', 'Item Name', 'Price'], dtype='object')"
      ]
     },
     "execution_count": 2,
     "metadata": {},
     "output_type": "execute_result"
    }
   ],
   "source": [
    "#get names of columns\n",
    "purchase_df.columns"
   ]
  },
  {
   "cell_type": "code",
   "execution_count": 3,
   "metadata": {},
   "outputs": [
    {
     "data": {
      "text/html": [
       "<div>\n",
       "<style scoped>\n",
       "    .dataframe tbody tr th:only-of-type {\n",
       "        vertical-align: middle;\n",
       "    }\n",
       "\n",
       "    .dataframe tbody tr th {\n",
       "        vertical-align: top;\n",
       "    }\n",
       "\n",
       "    .dataframe thead th {\n",
       "        text-align: right;\n",
       "    }\n",
       "</style>\n",
       "<table border=\"1\" class=\"dataframe\">\n",
       "  <thead>\n",
       "    <tr style=\"text-align: right;\">\n",
       "      <th></th>\n",
       "      <th>Purchase ID</th>\n",
       "      <th>SN</th>\n",
       "      <th>Age</th>\n",
       "      <th>Gender</th>\n",
       "      <th>Item ID</th>\n",
       "      <th>Item Name</th>\n",
       "      <th>Price</th>\n",
       "    </tr>\n",
       "  </thead>\n",
       "  <tbody>\n",
       "    <tr>\n",
       "      <th>0</th>\n",
       "      <td>0</td>\n",
       "      <td>Lisim78</td>\n",
       "      <td>20</td>\n",
       "      <td>Male</td>\n",
       "      <td>108</td>\n",
       "      <td>Extraction, Quickblade Of Trembling Hands</td>\n",
       "      <td>3.53</td>\n",
       "    </tr>\n",
       "    <tr>\n",
       "      <th>1</th>\n",
       "      <td>1</td>\n",
       "      <td>Lisovynya38</td>\n",
       "      <td>40</td>\n",
       "      <td>Male</td>\n",
       "      <td>143</td>\n",
       "      <td>Frenzied Scimitar</td>\n",
       "      <td>1.56</td>\n",
       "    </tr>\n",
       "    <tr>\n",
       "      <th>2</th>\n",
       "      <td>2</td>\n",
       "      <td>Ithergue48</td>\n",
       "      <td>24</td>\n",
       "      <td>Male</td>\n",
       "      <td>92</td>\n",
       "      <td>Final Critic</td>\n",
       "      <td>4.88</td>\n",
       "    </tr>\n",
       "    <tr>\n",
       "      <th>3</th>\n",
       "      <td>3</td>\n",
       "      <td>Chamassasya86</td>\n",
       "      <td>24</td>\n",
       "      <td>Male</td>\n",
       "      <td>100</td>\n",
       "      <td>Blindscythe</td>\n",
       "      <td>3.27</td>\n",
       "    </tr>\n",
       "    <tr>\n",
       "      <th>4</th>\n",
       "      <td>4</td>\n",
       "      <td>Iskosia90</td>\n",
       "      <td>23</td>\n",
       "      <td>Male</td>\n",
       "      <td>131</td>\n",
       "      <td>Fury</td>\n",
       "      <td>1.44</td>\n",
       "    </tr>\n",
       "  </tbody>\n",
       "</table>\n",
       "</div>"
      ],
      "text/plain": [
       "   Purchase ID             SN  Age Gender  Item ID  \\\n",
       "0            0        Lisim78   20   Male      108   \n",
       "1            1    Lisovynya38   40   Male      143   \n",
       "2            2     Ithergue48   24   Male       92   \n",
       "3            3  Chamassasya86   24   Male      100   \n",
       "4            4      Iskosia90   23   Male      131   \n",
       "\n",
       "                                   Item Name  Price  \n",
       "0  Extraction, Quickblade Of Trembling Hands   3.53  \n",
       "1                          Frenzied Scimitar   1.56  \n",
       "2                               Final Critic   4.88  \n",
       "3                                Blindscythe   3.27  \n",
       "4                                       Fury   1.44  "
      ]
     },
     "execution_count": 3,
     "metadata": {},
     "output_type": "execute_result"
    }
   ],
   "source": [
    "purchase_df.head()"
   ]
  },
  {
   "cell_type": "code",
   "execution_count": 4,
   "metadata": {},
   "outputs": [
    {
     "data": {
      "text/html": [
       "<div>\n",
       "<style scoped>\n",
       "    .dataframe tbody tr th:only-of-type {\n",
       "        vertical-align: middle;\n",
       "    }\n",
       "\n",
       "    .dataframe tbody tr th {\n",
       "        vertical-align: top;\n",
       "    }\n",
       "\n",
       "    .dataframe thead th {\n",
       "        text-align: right;\n",
       "    }\n",
       "</style>\n",
       "<table border=\"1\" class=\"dataframe\">\n",
       "  <thead>\n",
       "    <tr style=\"text-align: right;\">\n",
       "      <th></th>\n",
       "      <th>Total Players</th>\n",
       "    </tr>\n",
       "  </thead>\n",
       "  <tbody>\n",
       "    <tr>\n",
       "      <th>0</th>\n",
       "      <td>576</td>\n",
       "    </tr>\n",
       "  </tbody>\n",
       "</table>\n",
       "</div>"
      ],
      "text/plain": [
       "   Total Players\n",
       "0            576"
      ]
     },
     "execution_count": 4,
     "metadata": {},
     "output_type": "execute_result"
    }
   ],
   "source": [
    "#find count from sn\n",
    "player_count = purchase_df[\"SN\"].value_counts()\n",
    "#code to get count to total players column\n",
    "total_players = len(purchase_df['SN'].value_counts())\n",
    "total_players_df = pd.DataFrame({\"Total Players\": total_players}, index=[0])\n",
    "total_players_df\n",
    "\n"
   ]
  },
  {
   "cell_type": "markdown",
   "metadata": {},
   "source": [
    "## Purchasing Analysis (Total)"
   ]
  },
  {
   "cell_type": "markdown",
   "metadata": {},
   "source": [
    "* Run basic calculations to obtain number of unique items, average price, etc.\n",
    "\n",
    "\n",
    "* Create a summary data frame to hold the results\n",
    "\n",
    "\n",
    "* Optional: give the displayed data cleaner formatting\n",
    "\n",
    "\n",
    "* Display the summary data frame\n"
   ]
  },
  {
   "cell_type": "code",
   "execution_count": 5,
   "metadata": {
    "scrolled": true
   },
   "outputs": [
    {
     "data": {
      "text/html": [
       "<style  type=\"text/css\" >\n",
       "</style><table id=\"T_e4463ef6_be36_11ea_a153_00d8610f2e00\" ><thead>    <tr>        <th class=\"blank level0\" ></th>        <th class=\"col_heading level0 col0\" >Average</th>        <th class=\"col_heading level0 col1\" >Uniques</th>        <th class=\"col_heading level0 col2\" >Total Cost</th>    </tr>    <tr>        <th class=\"index_name level0\" >Table</th>        <th class=\"blank\" ></th>        <th class=\"blank\" ></th>        <th class=\"blank\" ></th>    </tr></thead><tbody>\n",
       "                <tr>\n",
       "                        <th id=\"T_e4463ef6_be36_11ea_a153_00d8610f2e00level0_row0\" class=\"row_heading level0 row0\" >0</th>\n",
       "                        <td id=\"T_e4463ef6_be36_11ea_a153_00d8610f2e00row0_col0\" class=\"data row0 col0\" >3.050987</td>\n",
       "                        <td id=\"T_e4463ef6_be36_11ea_a153_00d8610f2e00row0_col1\" class=\"data row0 col1\" >780</td>\n",
       "                        <td id=\"T_e4463ef6_be36_11ea_a153_00d8610f2e00row0_col2\" class=\"data row0 col2\" >$2,380</td>\n",
       "            </tr>\n",
       "    </tbody></table>"
      ],
      "text/plain": [
       "<pandas.io.formats.style.Styler at 0x188def5b5c8>"
      ]
     },
     "execution_count": 5,
     "metadata": {},
     "output_type": "execute_result"
    }
   ],
   "source": [
    "#get info on average and uniques\n",
    "average_price = purchase_df['Price'].mean()\n",
    "unique_items = purchase_df['Item ID'].count()\n",
    "total_price = purchase_df['Price'].sum()\n",
    "\n",
    "#make table\n",
    "summary_df = pd.DataFrame({\"Average\" : average_price,\n",
    "                           \"Uniques\" : unique_items,\n",
    "                          \"Total Cost\" : [total_price]})\n",
    "summary_df.index.name = \"Table\"\n",
    "format_dict = {'Total Cost':'${0:,.0f}','Average Price' :'${0:,.0f}',}\n",
    "summary_df.style.format(format_dict)\n",
    "\n"
   ]
  },
  {
   "cell_type": "markdown",
   "metadata": {},
   "source": [
    "## Gender Demographics"
   ]
  },
  {
   "cell_type": "markdown",
   "metadata": {},
   "source": [
    "* Percentage and Count of Male Players\n",
    "\n",
    "\n",
    "* Percentage and Count of Female Players\n",
    "\n",
    "\n",
    "* Percentage and Count of Other / Non-Disclosed\n",
    "\n",
    "\n"
   ]
  },
  {
   "cell_type": "code",
   "execution_count": 6,
   "metadata": {},
   "outputs": [
    {
     "data": {
      "text/html": [
       "<style  type=\"text/css\" >\n",
       "</style><table id=\"T_e4491f68_be36_11ea_ba71_00d8610f2e00\" ><thead>    <tr>        <th class=\"blank level0\" ></th>        <th class=\"col_heading level0 col0\" >Percentage of Players</th>        <th class=\"col_heading level0 col1\" >Total Count</th>    </tr>    <tr>        <th class=\"index_name level0\" >Gender</th>        <th class=\"blank\" ></th>        <th class=\"blank\" ></th>    </tr></thead><tbody>\n",
       "                <tr>\n",
       "                        <th id=\"T_e4491f68_be36_11ea_ba71_00d8610f2e00level0_row0\" class=\"row_heading level0 row0\" >Female</th>\n",
       "                        <td id=\"T_e4491f68_be36_11ea_ba71_00d8610f2e00row0_col0\" class=\"data row0 col0\" >14%</td>\n",
       "                        <td id=\"T_e4491f68_be36_11ea_ba71_00d8610f2e00row0_col1\" class=\"data row0 col1\" >81</td>\n",
       "            </tr>\n",
       "            <tr>\n",
       "                        <th id=\"T_e4491f68_be36_11ea_ba71_00d8610f2e00level0_row1\" class=\"row_heading level0 row1\" >Male</th>\n",
       "                        <td id=\"T_e4491f68_be36_11ea_ba71_00d8610f2e00row1_col0\" class=\"data row1 col0\" >84%</td>\n",
       "                        <td id=\"T_e4491f68_be36_11ea_ba71_00d8610f2e00row1_col1\" class=\"data row1 col1\" >484</td>\n",
       "            </tr>\n",
       "            <tr>\n",
       "                        <th id=\"T_e4491f68_be36_11ea_ba71_00d8610f2e00level0_row2\" class=\"row_heading level0 row2\" >Other / Non-Disclosed</th>\n",
       "                        <td id=\"T_e4491f68_be36_11ea_ba71_00d8610f2e00row2_col0\" class=\"data row2 col0\" >2%</td>\n",
       "                        <td id=\"T_e4491f68_be36_11ea_ba71_00d8610f2e00row2_col1\" class=\"data row2 col1\" >11</td>\n",
       "            </tr>\n",
       "    </tbody></table>"
      ],
      "text/plain": [
       "<pandas.io.formats.style.Styler at 0x188dfc05588>"
      ]
     },
     "execution_count": 6,
     "metadata": {},
     "output_type": "execute_result"
    }
   ],
   "source": [
    "\n",
    "gender = purchase_df.groupby(\"Gender\")\n",
    "counts = gender.nunique()[\"SN\"]\n",
    "\n",
    "percentage = (counts/total_players*100)\n",
    "\n",
    "gender_final = pd.DataFrame({ \"Percentage of Players\": percentage,\"Total Count\": counts\n",
    "})\n",
    "\n",
    "gender_final.index.name = 'Gender'\n",
    "format_dict = {\"Percentage of Players\" :'{0:.0f}%'}\n",
    "gender_final.style.format(format_dict)\n",
    "\n",
    "\n",
    "\n",
    "\n",
    "\n",
    "\n",
    "\n",
    "\n"
   ]
  },
  {
   "cell_type": "markdown",
   "metadata": {},
   "source": [
    "\n",
    "## Purchasing Analysis (Gender)"
   ]
  },
  {
   "cell_type": "markdown",
   "metadata": {},
   "source": [
    "* Run basic calculations to obtain purchase count, avg. purchase price, avg. purchase total per person etc. by gender\n",
    "\n",
    "\n",
    "\n",
    "\n",
    "* Create a summary data frame to hold the results\n",
    "\n",
    "\n",
    "* Optional: give the displayed data cleaner formatting\n",
    "\n",
    "\n",
    "* Display the summary data frame"
   ]
  },
  {
   "cell_type": "code",
   "execution_count": 7,
   "metadata": {},
   "outputs": [
    {
     "data": {
      "text/html": [
       "<style  type=\"text/css\" >\n",
       "</style><table id=\"T_e44aa500_be36_11ea_8d34_00d8610f2e00\" ><thead>    <tr>        <th class=\"blank level0\" ></th>        <th class=\"col_heading level0 col0\" >Purchase Count</th>        <th class=\"col_heading level0 col1\" >Avg Purchase Price</th>        <th class=\"col_heading level0 col2\" >Avg Purchase Total</th>        <th class=\"col_heading level0 col3\" >Avg Purchase per person</th>    </tr>    <tr>        <th class=\"index_name level0\" >Gender</th>        <th class=\"blank\" ></th>        <th class=\"blank\" ></th>        <th class=\"blank\" ></th>        <th class=\"blank\" ></th>    </tr></thead><tbody>\n",
       "                <tr>\n",
       "                        <th id=\"T_e44aa500_be36_11ea_8d34_00d8610f2e00level0_row0\" class=\"row_heading level0 row0\" >Female</th>\n",
       "                        <td id=\"T_e44aa500_be36_11ea_8d34_00d8610f2e00row0_col0\" class=\"data row0 col0\" >81</td>\n",
       "                        <td id=\"T_e44aa500_be36_11ea_8d34_00d8610f2e00row0_col1\" class=\"data row0 col1\" >$3</td>\n",
       "                        <td id=\"T_e44aa500_be36_11ea_8d34_00d8610f2e00row0_col2\" class=\"data row0 col2\" >$362</td>\n",
       "                        <td id=\"T_e44aa500_be36_11ea_8d34_00d8610f2e00row0_col3\" class=\"data row0 col3\" >$4</td>\n",
       "            </tr>\n",
       "            <tr>\n",
       "                        <th id=\"T_e44aa500_be36_11ea_8d34_00d8610f2e00level0_row1\" class=\"row_heading level0 row1\" >Male</th>\n",
       "                        <td id=\"T_e44aa500_be36_11ea_8d34_00d8610f2e00row1_col0\" class=\"data row1 col0\" >484</td>\n",
       "                        <td id=\"T_e44aa500_be36_11ea_8d34_00d8610f2e00row1_col1\" class=\"data row1 col1\" >$3</td>\n",
       "                        <td id=\"T_e44aa500_be36_11ea_8d34_00d8610f2e00row1_col2\" class=\"data row1 col2\" >$1,968</td>\n",
       "                        <td id=\"T_e44aa500_be36_11ea_8d34_00d8610f2e00row1_col3\" class=\"data row1 col3\" >$4</td>\n",
       "            </tr>\n",
       "            <tr>\n",
       "                        <th id=\"T_e44aa500_be36_11ea_8d34_00d8610f2e00level0_row2\" class=\"row_heading level0 row2\" >Other / Non-Disclosed</th>\n",
       "                        <td id=\"T_e44aa500_be36_11ea_8d34_00d8610f2e00row2_col0\" class=\"data row2 col0\" >11</td>\n",
       "                        <td id=\"T_e44aa500_be36_11ea_8d34_00d8610f2e00row2_col1\" class=\"data row2 col1\" >$3</td>\n",
       "                        <td id=\"T_e44aa500_be36_11ea_8d34_00d8610f2e00row2_col2\" class=\"data row2 col2\" >$50</td>\n",
       "                        <td id=\"T_e44aa500_be36_11ea_8d34_00d8610f2e00row2_col3\" class=\"data row2 col3\" >$5</td>\n",
       "            </tr>\n",
       "    </tbody></table>"
      ],
      "text/plain": [
       "<pandas.io.formats.style.Styler at 0x188dfd6a488>"
      ]
     },
     "execution_count": 7,
     "metadata": {},
     "output_type": "execute_result"
    }
   ],
   "source": [
    "gender_grouping = purchase_df.groupby(\"Gender\")\n",
    "purchase_count = counts\n",
    "average_purchase = gender_grouping[\"Price\"].mean()\n",
    "avg_total = gender_grouping[\"Price\"].sum()\n",
    "avg_gender = avg_total/counts\n",
    "demo_df = pd.DataFrame({\"Purchase Count\" : purchase_count,\n",
    "                       \"Avg Purchase Price\" : average_purchase,\n",
    "                       \"Avg Purchase Total\" : avg_total,\n",
    "                       \"Avg Purchase per person\" : avg_gender})\n",
    "demo_df.index.name= \"Gender\"\n",
    "format_dict = {'Avg Purchase Price':'${0:,.0f}', 'Avg Purchase Total' :'${0:,.0f}', 'Avg Purchase per person' :'${0:,.0f}',}\n",
    "demo_df.style.format(format_dict)\n"
   ]
  },
  {
   "cell_type": "markdown",
   "metadata": {},
   "source": [
    "## Age Demographics"
   ]
  },
  {
   "cell_type": "markdown",
   "metadata": {},
   "source": [
    "* Establish bins for ages\n",
    "\n",
    "\n",
    "* Categorize the existing players using the age bins. Hint: use pd.cut()\n",
    "\n",
    "\n",
    "* Calculate the numbers and percentages by age group\n",
    "\n",
    "\n",
    "* Create a summary data frame to hold the results\n",
    "\n",
    "\n",
    "* Optional: round the percentage column to two decimal points\n",
    "\n",
    "\n",
    "* Display Age Demographics Table\n"
   ]
  },
  {
   "cell_type": "code",
   "execution_count": 13,
   "metadata": {},
   "outputs": [
    {
     "data": {
      "text/html": [
       "<style  type=\"text/css\" >\n",
       "</style><table id=\"T_f206faba_be36_11ea_9253_00d8610f2e00\" ><thead>    <tr>        <th class=\"blank level0\" ></th>        <th class=\"col_heading level0 col0\" >Total Count</th>        <th class=\"col_heading level0 col1\" >Percentage</th>    </tr>    <tr>        <th class=\"index_name level0\" >Age Group</th>        <th class=\"blank\" ></th>        <th class=\"blank\" ></th>    </tr></thead><tbody>\n",
       "                <tr>\n",
       "                        <th id=\"T_f206faba_be36_11ea_9253_00d8610f2e00level0_row0\" class=\"row_heading level0 row0\" ><10</th>\n",
       "                        <td id=\"T_f206faba_be36_11ea_9253_00d8610f2e00row0_col0\" class=\"data row0 col0\" >17</td>\n",
       "                        <td id=\"T_f206faba_be36_11ea_9253_00d8610f2e00row0_col1\" class=\"data row0 col1\" >0.15%</td>\n",
       "            </tr>\n",
       "            <tr>\n",
       "                        <th id=\"T_f206faba_be36_11ea_9253_00d8610f2e00level0_row1\" class=\"row_heading level0 row1\" >10-14</th>\n",
       "                        <td id=\"T_f206faba_be36_11ea_9253_00d8610f2e00row1_col0\" class=\"data row1 col0\" >32</td>\n",
       "                        <td id=\"T_f206faba_be36_11ea_9253_00d8610f2e00row1_col1\" class=\"data row1 col1\" >0.23%</td>\n",
       "            </tr>\n",
       "            <tr>\n",
       "                        <th id=\"T_f206faba_be36_11ea_9253_00d8610f2e00level0_row2\" class=\"row_heading level0 row2\" >15-19</th>\n",
       "                        <td id=\"T_f206faba_be36_11ea_9253_00d8610f2e00row2_col0\" class=\"data row2 col0\" >114</td>\n",
       "                        <td id=\"T_f206faba_be36_11ea_9253_00d8610f2e00row2_col1\" class=\"data row2 col1\" >0.87%</td>\n",
       "            </tr>\n",
       "            <tr>\n",
       "                        <th id=\"T_f206faba_be36_11ea_9253_00d8610f2e00level0_row3\" class=\"row_heading level0 row3\" >20-24</th>\n",
       "                        <td id=\"T_f206faba_be36_11ea_9253_00d8610f2e00row3_col0\" class=\"data row3 col0\" >157</td>\n",
       "                        <td id=\"T_f206faba_be36_11ea_9253_00d8610f2e00row3_col1\" class=\"data row3 col1\" >1.13%</td>\n",
       "            </tr>\n",
       "            <tr>\n",
       "                        <th id=\"T_f206faba_be36_11ea_9253_00d8610f2e00level0_row4\" class=\"row_heading level0 row4\" >25-29</th>\n",
       "                        <td id=\"T_f206faba_be36_11ea_9253_00d8610f2e00row4_col0\" class=\"data row4 col0\" >43</td>\n",
       "                        <td id=\"T_f206faba_be36_11ea_9253_00d8610f2e00row4_col1\" class=\"data row4 col1\" >0.30%</td>\n",
       "            </tr>\n",
       "            <tr>\n",
       "                        <th id=\"T_f206faba_be36_11ea_9253_00d8610f2e00level0_row5\" class=\"row_heading level0 row5\" >30-34</th>\n",
       "                        <td id=\"T_f206faba_be36_11ea_9253_00d8610f2e00row5_col0\" class=\"data row5 col0\" >25</td>\n",
       "                        <td id=\"T_f206faba_be36_11ea_9253_00d8610f2e00row5_col1\" class=\"data row5 col1\" >0.18%</td>\n",
       "            </tr>\n",
       "            <tr>\n",
       "                        <th id=\"T_f206faba_be36_11ea_9253_00d8610f2e00level0_row6\" class=\"row_heading level0 row6\" >35-39</th>\n",
       "                        <td id=\"T_f206faba_be36_11ea_9253_00d8610f2e00row6_col0\" class=\"data row6 col0\" >19</td>\n",
       "                        <td id=\"T_f206faba_be36_11ea_9253_00d8610f2e00row6_col1\" class=\"data row6 col1\" >0.15%</td>\n",
       "            </tr>\n",
       "            <tr>\n",
       "                        <th id=\"T_f206faba_be36_11ea_9253_00d8610f2e00level0_row7\" class=\"row_heading level0 row7\" >40+</th>\n",
       "                        <td id=\"T_f206faba_be36_11ea_9253_00d8610f2e00row7_col0\" class=\"data row7 col0\" >7</td>\n",
       "                        <td id=\"T_f206faba_be36_11ea_9253_00d8610f2e00row7_col1\" class=\"data row7 col1\" >0.05%</td>\n",
       "            </tr>\n",
       "    </tbody></table>"
      ],
      "text/plain": [
       "<pandas.io.formats.style.Styler at 0x188dfdbfd08>"
      ]
     },
     "execution_count": 13,
     "metadata": {},
     "output_type": "execute_result"
    }
   ],
   "source": [
    "data_df = purchase_df.copy()\n",
    "age_num = [0, 10, 15, 20, 25, 30, 35, 40, 100]\n",
    "age_groups = [\"<10\", \"10-14\", \"15-19\", \"20-24\", \"25-29\", \"30-34\", \"35-39\", \"40+\"]\n",
    "data_df[\"Age Group\"] = pd.cut(data_df[\"Age\"], age_num, labels=age_groups)\n",
    "\n",
    "grouped_data = data_df.groupby([\"Age Group\"])\n",
    "\n",
    "total_count = grouped_data[\"SN\"].nunique()\n",
    "\n",
    "percentage = (grouped_data[\"Price\"].sum()/data_df[\"SN\"].nunique())\n",
    "\n",
    "percentage_df = pd.DataFrame({\"Total Count\" : total_count,\n",
    "                             \"Percentage\" : percentage})\n",
    "\n",
    "format_dict = {'Percentage':'{:.2f}%'}\n",
    "percentage_df.style.format(format_dict)\n",
    "\n",
    "\n",
    "\n"
   ]
  },
  {
   "cell_type": "markdown",
   "metadata": {},
   "source": [
    "## Purchasing Analysis (Age)"
   ]
  },
  {
   "cell_type": "markdown",
   "metadata": {},
   "source": [
    "* Bin the purchase_data data frame by age\n",
    "\n",
    "\n",
    "* Run basic calculations to obtain purchase count, avg. purchase price, avg. purchase total per person etc. in the table below\n",
    "\n",
    "\n",
    "* Create a summary data frame to hold the results\n",
    "\n",
    "\n",
    "* Optional: give the displayed data cleaner formatting\n",
    "\n",
    "\n",
    "* Display the summary data frame"
   ]
  },
  {
   "cell_type": "code",
   "execution_count": 9,
   "metadata": {},
   "outputs": [
    {
     "data": {
      "text/html": [
       "<style  type=\"text/css\" >\n",
       "</style><table id=\"T_e44ff88a_be36_11ea_8c53_00d8610f2e00\" ><thead>    <tr>        <th class=\"blank level0\" ></th>        <th class=\"col_heading level0 col0\" >Purchase Count</th>        <th class=\"col_heading level0 col1\" >Avg Purchase Price</th>        <th class=\"col_heading level0 col2\" >Avg Purchase per person</th>        <th class=\"col_heading level0 col3\" >Total Purchase Value</th>    </tr>    <tr>        <th class=\"index_name level0\" >Age Group</th>        <th class=\"blank\" ></th>        <th class=\"blank\" ></th>        <th class=\"blank\" ></th>        <th class=\"blank\" ></th>    </tr></thead><tbody>\n",
       "                <tr>\n",
       "                        <th id=\"T_e44ff88a_be36_11ea_8c53_00d8610f2e00level0_row0\" class=\"row_heading level0 row0\" ><10</th>\n",
       "                        <td id=\"T_e44ff88a_be36_11ea_8c53_00d8610f2e00row0_col0\" class=\"data row0 col0\" >17</td>\n",
       "                        <td id=\"T_e44ff88a_be36_11ea_8c53_00d8610f2e00row0_col1\" class=\"data row0 col1\" >$4</td>\n",
       "                        <td id=\"T_e44ff88a_be36_11ea_8c53_00d8610f2e00row0_col2\" class=\"data row0 col2\" >$3</td>\n",
       "                        <td id=\"T_e44ff88a_be36_11ea_8c53_00d8610f2e00row0_col3\" class=\"data row0 col3\" >$63</td>\n",
       "            </tr>\n",
       "            <tr>\n",
       "                        <th id=\"T_e44ff88a_be36_11ea_8c53_00d8610f2e00level0_row1\" class=\"row_heading level0 row1\" >10-14</th>\n",
       "                        <td id=\"T_e44ff88a_be36_11ea_8c53_00d8610f2e00row1_col0\" class=\"data row1 col0\" >32</td>\n",
       "                        <td id=\"T_e44ff88a_be36_11ea_8c53_00d8610f2e00row1_col1\" class=\"data row1 col1\" >$3</td>\n",
       "                        <td id=\"T_e44ff88a_be36_11ea_8c53_00d8610f2e00row1_col2\" class=\"data row1 col2\" >$2</td>\n",
       "                        <td id=\"T_e44ff88a_be36_11ea_8c53_00d8610f2e00row1_col3\" class=\"data row1 col3\" >$94</td>\n",
       "            </tr>\n",
       "            <tr>\n",
       "                        <th id=\"T_e44ff88a_be36_11ea_8c53_00d8610f2e00level0_row2\" class=\"row_heading level0 row2\" >15-19</th>\n",
       "                        <td id=\"T_e44ff88a_be36_11ea_8c53_00d8610f2e00row2_col0\" class=\"data row2 col0\" >114</td>\n",
       "                        <td id=\"T_e44ff88a_be36_11ea_8c53_00d8610f2e00row2_col1\" class=\"data row2 col1\" >$3</td>\n",
       "                        <td id=\"T_e44ff88a_be36_11ea_8c53_00d8610f2e00row2_col2\" class=\"data row2 col2\" >$2</td>\n",
       "                        <td id=\"T_e44ff88a_be36_11ea_8c53_00d8610f2e00row2_col3\" class=\"data row2 col3\" >$360</td>\n",
       "            </tr>\n",
       "            <tr>\n",
       "                        <th id=\"T_e44ff88a_be36_11ea_8c53_00d8610f2e00level0_row3\" class=\"row_heading level0 row3\" >20-24</th>\n",
       "                        <td id=\"T_e44ff88a_be36_11ea_8c53_00d8610f2e00row3_col0\" class=\"data row3 col0\" >157</td>\n",
       "                        <td id=\"T_e44ff88a_be36_11ea_8c53_00d8610f2e00row3_col1\" class=\"data row3 col1\" >$3</td>\n",
       "                        <td id=\"T_e44ff88a_be36_11ea_8c53_00d8610f2e00row3_col2\" class=\"data row3 col2\" >$2</td>\n",
       "                        <td id=\"T_e44ff88a_be36_11ea_8c53_00d8610f2e00row3_col3\" class=\"data row3 col3\" >$466</td>\n",
       "            </tr>\n",
       "            <tr>\n",
       "                        <th id=\"T_e44ff88a_be36_11ea_8c53_00d8610f2e00level0_row4\" class=\"row_heading level0 row4\" >25-29</th>\n",
       "                        <td id=\"T_e44ff88a_be36_11ea_8c53_00d8610f2e00row4_col0\" class=\"data row4 col0\" >43</td>\n",
       "                        <td id=\"T_e44ff88a_be36_11ea_8c53_00d8610f2e00row4_col1\" class=\"data row4 col1\" >$3</td>\n",
       "                        <td id=\"T_e44ff88a_be36_11ea_8c53_00d8610f2e00row4_col2\" class=\"data row4 col2\" >$2</td>\n",
       "                        <td id=\"T_e44ff88a_be36_11ea_8c53_00d8610f2e00row4_col3\" class=\"data row4 col3\" >$123</td>\n",
       "            </tr>\n",
       "            <tr>\n",
       "                        <th id=\"T_e44ff88a_be36_11ea_8c53_00d8610f2e00level0_row5\" class=\"row_heading level0 row5\" >30-34</th>\n",
       "                        <td id=\"T_e44ff88a_be36_11ea_8c53_00d8610f2e00row5_col0\" class=\"data row5 col0\" >25</td>\n",
       "                        <td id=\"T_e44ff88a_be36_11ea_8c53_00d8610f2e00row5_col1\" class=\"data row5 col1\" >$3</td>\n",
       "                        <td id=\"T_e44ff88a_be36_11ea_8c53_00d8610f2e00row5_col2\" class=\"data row5 col2\" >$2</td>\n",
       "                        <td id=\"T_e44ff88a_be36_11ea_8c53_00d8610f2e00row5_col3\" class=\"data row5 col3\" >$73</td>\n",
       "            </tr>\n",
       "            <tr>\n",
       "                        <th id=\"T_e44ff88a_be36_11ea_8c53_00d8610f2e00level0_row6\" class=\"row_heading level0 row6\" >35-39</th>\n",
       "                        <td id=\"T_e44ff88a_be36_11ea_8c53_00d8610f2e00row6_col0\" class=\"data row6 col0\" >19</td>\n",
       "                        <td id=\"T_e44ff88a_be36_11ea_8c53_00d8610f2e00row6_col1\" class=\"data row6 col1\" >$3</td>\n",
       "                        <td id=\"T_e44ff88a_be36_11ea_8c53_00d8610f2e00row6_col2\" class=\"data row6 col2\" >$2</td>\n",
       "                        <td id=\"T_e44ff88a_be36_11ea_8c53_00d8610f2e00row6_col3\" class=\"data row6 col3\" >$63</td>\n",
       "            </tr>\n",
       "            <tr>\n",
       "                        <th id=\"T_e44ff88a_be36_11ea_8c53_00d8610f2e00level0_row7\" class=\"row_heading level0 row7\" >40+</th>\n",
       "                        <td id=\"T_e44ff88a_be36_11ea_8c53_00d8610f2e00row7_col0\" class=\"data row7 col0\" >7</td>\n",
       "                        <td id=\"T_e44ff88a_be36_11ea_8c53_00d8610f2e00row7_col1\" class=\"data row7 col1\" >$3</td>\n",
       "                        <td id=\"T_e44ff88a_be36_11ea_8c53_00d8610f2e00row7_col2\" class=\"data row7 col2\" >$3</td>\n",
       "                        <td id=\"T_e44ff88a_be36_11ea_8c53_00d8610f2e00row7_col3\" class=\"data row7 col3\" >$22</td>\n",
       "            </tr>\n",
       "    </tbody></table>"
      ],
      "text/plain": [
       "<pandas.io.formats.style.Styler at 0x188df683d08>"
      ]
     },
     "execution_count": 9,
     "metadata": {},
     "output_type": "execute_result"
    }
   ],
   "source": [
    "data_df = purchase_df\n",
    "age_num = [0, 10, 15, 20, 25, 30, 35, 40, 400]\n",
    "age_groups = [\"<10\", \"10-14\", \"15-19\", \"20-24\", \"25-29\", \"30-34\", \"35-39\", \"40+\"]\n",
    "data_df[\"Age Group\"] = pd.cut(data_df[\"Age\"], age_num, labels=age_groups)\n",
    "grouped_data = data_df.drop_duplicates(subset =\"SN\", \n",
    "                     keep = False, inplace = True) \n",
    "grouped = data_df.groupby([\"Age Group\"])\n",
    "\n",
    "\n",
    "\n",
    "count = grouped[\"Age\"].count()\n",
    "mean = grouped[\"Price\"].mean()\n",
    "total = grouped[\"Price\"].sum()\n",
    "users = grouped [\"SN\"].count()\n",
    "avg_purchase = total/total_count\n",
    "\n",
    "\n",
    "final_df = pd.DataFrame({\"Purchase Count\" : count,\n",
    "                      \"Avg Purchase Price\" : mean,\n",
    "                      \"Avg Purchase per person\" : avg_purchase,\n",
    "                        \"Total Purchase Value\": total})\n",
    "\n",
    "format_dict = {'Avg Purchase per person':'${0:,.0f}','Avg Purchase Price':'${0:,.0f}', 'Total Purchase Value'\n",
    "              :'${0:,.0f}'}\n",
    "final_df.style.format(format_dict)\n",
    "\n",
    "\n",
    "\n",
    "\n",
    "\n",
    "\n"
   ]
  },
  {
   "cell_type": "markdown",
   "metadata": {},
   "source": [
    "## Top Spenders"
   ]
  },
  {
   "cell_type": "markdown",
   "metadata": {},
   "source": [
    "* Run basic calculations to obtain the results in the table below\n",
    "\n",
    "\n",
    "* Create a summary data frame to hold the results\n",
    "\n",
    "\n",
    "* Sort the total purchase value column in descending order\n",
    "\n",
    "\n",
    "* Optional: give the displayed data cleaner formatting\n",
    "\n",
    "\n",
    "* Display a preview of the summary data frame\n",
    "\n"
   ]
  },
  {
   "cell_type": "code",
   "execution_count": 10,
   "metadata": {},
   "outputs": [
    {
     "data": {
      "text/html": [
       "<div>\n",
       "<style scoped>\n",
       "    .dataframe tbody tr th:only-of-type {\n",
       "        vertical-align: middle;\n",
       "    }\n",
       "\n",
       "    .dataframe tbody tr th {\n",
       "        vertical-align: top;\n",
       "    }\n",
       "\n",
       "    .dataframe thead th {\n",
       "        text-align: right;\n",
       "    }\n",
       "</style>\n",
       "<table border=\"1\" class=\"dataframe\">\n",
       "  <thead>\n",
       "    <tr style=\"text-align: right;\">\n",
       "      <th></th>\n",
       "      <th>Purchase Count</th>\n",
       "      <th>Total Purchase Value</th>\n",
       "      <th>Avg Purchase</th>\n",
       "      <th>Total Value</th>\n",
       "      <th>Avg Total Purchase per person</th>\n",
       "    </tr>\n",
       "    <tr>\n",
       "      <th>SN</th>\n",
       "      <th></th>\n",
       "      <th></th>\n",
       "      <th></th>\n",
       "      <th></th>\n",
       "      <th></th>\n",
       "    </tr>\n",
       "  </thead>\n",
       "  <tbody>\n",
       "    <tr>\n",
       "      <th>Dyally87</th>\n",
       "      <td>1</td>\n",
       "      <td>4.99</td>\n",
       "      <td>4.99</td>\n",
       "      <td>4.99</td>\n",
       "      <td>1.0</td>\n",
       "    </tr>\n",
       "    <tr>\n",
       "      <th>Lirtilsa71</th>\n",
       "      <td>1</td>\n",
       "      <td>4.94</td>\n",
       "      <td>4.94</td>\n",
       "      <td>4.94</td>\n",
       "      <td>1.0</td>\n",
       "    </tr>\n",
       "    <tr>\n",
       "      <th>Chanirrasta87</th>\n",
       "      <td>1</td>\n",
       "      <td>4.94</td>\n",
       "      <td>4.94</td>\n",
       "      <td>4.94</td>\n",
       "      <td>1.0</td>\n",
       "    </tr>\n",
       "    <tr>\n",
       "      <th>Ririp86</th>\n",
       "      <td>1</td>\n",
       "      <td>4.94</td>\n",
       "      <td>4.94</td>\n",
       "      <td>4.94</td>\n",
       "      <td>1.0</td>\n",
       "    </tr>\n",
       "    <tr>\n",
       "      <th>Yarithsurgue62</th>\n",
       "      <td>1</td>\n",
       "      <td>4.94</td>\n",
       "      <td>4.94</td>\n",
       "      <td>4.94</td>\n",
       "      <td>1.0</td>\n",
       "    </tr>\n",
       "    <tr>\n",
       "      <th>...</th>\n",
       "      <td>...</td>\n",
       "      <td>...</td>\n",
       "      <td>...</td>\n",
       "      <td>...</td>\n",
       "      <td>...</td>\n",
       "    </tr>\n",
       "    <tr>\n",
       "      <th>Qilalista41</th>\n",
       "      <td>1</td>\n",
       "      <td>1.02</td>\n",
       "      <td>1.02</td>\n",
       "      <td>1.02</td>\n",
       "      <td>1.0</td>\n",
       "    </tr>\n",
       "    <tr>\n",
       "      <th>Hala31</th>\n",
       "      <td>1</td>\n",
       "      <td>1.02</td>\n",
       "      <td>1.02</td>\n",
       "      <td>1.02</td>\n",
       "      <td>1.0</td>\n",
       "    </tr>\n",
       "    <tr>\n",
       "      <th>Aidai61</th>\n",
       "      <td>1</td>\n",
       "      <td>1.01</td>\n",
       "      <td>1.01</td>\n",
       "      <td>1.01</td>\n",
       "      <td>1.0</td>\n",
       "    </tr>\n",
       "    <tr>\n",
       "      <th>Chanirra79</th>\n",
       "      <td>1</td>\n",
       "      <td>1.01</td>\n",
       "      <td>1.01</td>\n",
       "      <td>1.01</td>\n",
       "      <td>1.0</td>\n",
       "    </tr>\n",
       "    <tr>\n",
       "      <th>Alo38</th>\n",
       "      <td>1</td>\n",
       "      <td>1.00</td>\n",
       "      <td>1.00</td>\n",
       "      <td>1.00</td>\n",
       "      <td>1.0</td>\n",
       "    </tr>\n",
       "  </tbody>\n",
       "</table>\n",
       "<p>414 rows × 5 columns</p>\n",
       "</div>"
      ],
      "text/plain": [
       "                Purchase Count  Total Purchase Value  Avg Purchase  \\\n",
       "SN                                                                   \n",
       "Dyally87                     1                  4.99          4.99   \n",
       "Lirtilsa71                   1                  4.94          4.94   \n",
       "Chanirrasta87                1                  4.94          4.94   \n",
       "Ririp86                      1                  4.94          4.94   \n",
       "Yarithsurgue62               1                  4.94          4.94   \n",
       "...                        ...                   ...           ...   \n",
       "Qilalista41                  1                  1.02          1.02   \n",
       "Hala31                       1                  1.02          1.02   \n",
       "Aidai61                      1                  1.01          1.01   \n",
       "Chanirra79                   1                  1.01          1.01   \n",
       "Alo38                        1                  1.00          1.00   \n",
       "\n",
       "                Total Value  Avg Total Purchase per person  \n",
       "SN                                                          \n",
       "Dyally87               4.99                            1.0  \n",
       "Lirtilsa71             4.94                            1.0  \n",
       "Chanirrasta87          4.94                            1.0  \n",
       "Ririp86                4.94                            1.0  \n",
       "Yarithsurgue62         4.94                            1.0  \n",
       "...                     ...                            ...  \n",
       "Qilalista41            1.02                            1.0  \n",
       "Hala31                 1.02                            1.0  \n",
       "Aidai61                1.01                            1.0  \n",
       "Chanirra79             1.01                            1.0  \n",
       "Alo38                  1.00                            1.0  \n",
       "\n",
       "[414 rows x 5 columns]"
      ]
     },
     "execution_count": 10,
     "metadata": {},
     "output_type": "execute_result"
    }
   ],
   "source": [
    "#I could not figure how to fix this. Sorry\n",
    "\n",
    "grouped = purchase_df.groupby(\"SN\")\n",
    "\n",
    "\n",
    "itemcount = grouped['Item ID'].count()\n",
    "prices = grouped.sum()[\"Price\"]\n",
    "average = grouped.mean()[\"Price\"]\n",
    "users = grouped[\"SN\"].count()\n",
    "averageper = itemcount/users\n",
    "\n",
    "\n",
    "prices_df = pd.DataFrame({\"Purchase Count\" : itemcount,\n",
    "    \"Total Purchase Value\" : prices,\n",
    "                         \"Avg Purchase\" : average,\n",
    "                         \"Total Value\" : prices,\n",
    "                        \"Avg Total Purchase per person\" : averageper})\n",
    "format_price = prices_df.sort_values([\"Total Purchase Value\"], ascending=False)\n",
    "format_price\n",
    "\n",
    "\n"
   ]
  },
  {
   "cell_type": "markdown",
   "metadata": {},
   "source": [
    "## Most Popular Items"
   ]
  },
  {
   "cell_type": "markdown",
   "metadata": {},
   "source": [
    "* Retrieve the Item ID, Item Name, and Item Price columns\n",
    "\n",
    "\n",
    "* Group by Item ID and Item Name. Perform calculations to obtain purchase count, item price, and total purchase value\n",
    "\n",
    "\n",
    "* Create a summary data frame to hold the results\n",
    "\n",
    "\n",
    "* Sort the purchase count column in descending order\n",
    "\n",
    "\n",
    "* Optional: give the displayed data cleaner formatting\n",
    "\n",
    "\n",
    "* Display a preview of the summary data frame\n",
    "\n"
   ]
  },
  {
   "cell_type": "code",
   "execution_count": 11,
   "metadata": {},
   "outputs": [
    {
     "data": {
      "text/html": [
       "<div>\n",
       "<style scoped>\n",
       "    .dataframe tbody tr th:only-of-type {\n",
       "        vertical-align: middle;\n",
       "    }\n",
       "\n",
       "    .dataframe tbody tr th {\n",
       "        vertical-align: top;\n",
       "    }\n",
       "\n",
       "    .dataframe thead th {\n",
       "        text-align: right;\n",
       "    }\n",
       "</style>\n",
       "<table border=\"1\" class=\"dataframe\">\n",
       "  <thead>\n",
       "    <tr style=\"text-align: right;\">\n",
       "      <th></th>\n",
       "      <th></th>\n",
       "      <th>Purchase Count</th>\n",
       "      <th>Item Price</th>\n",
       "      <th>Total Purchase Value</th>\n",
       "    </tr>\n",
       "    <tr>\n",
       "      <th>Item Name</th>\n",
       "      <th>Item ID</th>\n",
       "      <th></th>\n",
       "      <th></th>\n",
       "      <th></th>\n",
       "    </tr>\n",
       "  </thead>\n",
       "  <tbody>\n",
       "    <tr>\n",
       "      <th>Final Critic</th>\n",
       "      <th>92</th>\n",
       "      <td>7</td>\n",
       "      <td>4.584286</td>\n",
       "      <td>32.09</td>\n",
       "    </tr>\n",
       "    <tr>\n",
       "      <th>Fiery Glass Crusader</th>\n",
       "      <th>145</th>\n",
       "      <td>6</td>\n",
       "      <td>4.580000</td>\n",
       "      <td>27.48</td>\n",
       "    </tr>\n",
       "    <tr>\n",
       "      <th>Glimmer, Ender of the Moon</th>\n",
       "      <th>78</th>\n",
       "      <td>5</td>\n",
       "      <td>4.400000</td>\n",
       "      <td>22.00</td>\n",
       "    </tr>\n",
       "    <tr>\n",
       "      <th>Singed Scalpel</th>\n",
       "      <th>103</th>\n",
       "      <td>5</td>\n",
       "      <td>4.350000</td>\n",
       "      <td>21.75</td>\n",
       "    </tr>\n",
       "    <tr>\n",
       "      <th>Lightning, Etcher of the King</th>\n",
       "      <th>59</th>\n",
       "      <td>5</td>\n",
       "      <td>4.230000</td>\n",
       "      <td>21.15</td>\n",
       "    </tr>\n",
       "  </tbody>\n",
       "</table>\n",
       "</div>"
      ],
      "text/plain": [
       "                                       Purchase Count  Item Price  \\\n",
       "Item Name                     Item ID                               \n",
       "Final Critic                  92                    7    4.584286   \n",
       "Fiery Glass Crusader          145                   6    4.580000   \n",
       "Glimmer, Ender of the Moon    78                    5    4.400000   \n",
       "Singed Scalpel                103                   5    4.350000   \n",
       "Lightning, Etcher of the King 59                    5    4.230000   \n",
       "\n",
       "                                       Total Purchase Value  \n",
       "Item Name                     Item ID                        \n",
       "Final Critic                  92                      32.09  \n",
       "Fiery Glass Crusader          145                     27.48  \n",
       "Glimmer, Ender of the Moon    78                      22.00  \n",
       "Singed Scalpel                103                     21.75  \n",
       "Lightning, Etcher of the King 59                      21.15  "
      ]
     },
     "execution_count": 11,
     "metadata": {},
     "output_type": "execute_result"
    }
   ],
   "source": [
    "pop_data = purchase_df.groupby([\"Item Name\", \"Item ID\"])\n",
    "item = pop_data[\"Item ID\"]\n",
    "itemname = pop_data[\"Item Name\"]\n",
    "itemprice = pop_data[\"Price\"].count()\n",
    "itemvalue = pop_data[\"Price\"].sum()\n",
    "\n",
    "price = itemvalue/itemprice\n",
    "\n",
    "pop_summary = pd.DataFrame({\"Purchase Count\": itemprice,\n",
    "                           \"Item Price\": price,\n",
    "                           \"Total Purchase Value\": itemvalue})\n",
    "\n",
    "pop_summary = pop_summary.sort_values([\"Total Purchase Value\"], ascending=False)\n",
    "pop_summary.head()\n",
    "\n",
    "\n"
   ]
  },
  {
   "cell_type": "markdown",
   "metadata": {},
   "source": [
    "## Most Profitable Items"
   ]
  },
  {
   "cell_type": "markdown",
   "metadata": {},
   "source": [
    "* Sort the above table by total purchase value in descending order\n",
    "\n",
    "\n",
    "* Optional: give the displayed data cleaner formatting\n",
    "\n",
    "\n",
    "* Display a preview of the data frame\n",
    "\n"
   ]
  },
  {
   "cell_type": "code",
   "execution_count": 12,
   "metadata": {
    "scrolled": true
   },
   "outputs": [
    {
     "data": {
      "text/html": [
       "<div>\n",
       "<style scoped>\n",
       "    .dataframe tbody tr th:only-of-type {\n",
       "        vertical-align: middle;\n",
       "    }\n",
       "\n",
       "    .dataframe tbody tr th {\n",
       "        vertical-align: top;\n",
       "    }\n",
       "\n",
       "    .dataframe thead th {\n",
       "        text-align: right;\n",
       "    }\n",
       "</style>\n",
       "<table border=\"1\" class=\"dataframe\">\n",
       "  <thead>\n",
       "    <tr style=\"text-align: right;\">\n",
       "      <th></th>\n",
       "      <th></th>\n",
       "      <th>Purchase Count</th>\n",
       "      <th>Item Price</th>\n",
       "      <th>Total Purchase Value</th>\n",
       "    </tr>\n",
       "    <tr>\n",
       "      <th>Item Name</th>\n",
       "      <th>Item ID</th>\n",
       "      <th></th>\n",
       "      <th></th>\n",
       "      <th></th>\n",
       "    </tr>\n",
       "  </thead>\n",
       "  <tbody>\n",
       "    <tr>\n",
       "      <th>Final Critic</th>\n",
       "      <th>92</th>\n",
       "      <td>7</td>\n",
       "      <td>4.584286</td>\n",
       "      <td>32.09</td>\n",
       "    </tr>\n",
       "    <tr>\n",
       "      <th>Fiery Glass Crusader</th>\n",
       "      <th>145</th>\n",
       "      <td>6</td>\n",
       "      <td>4.580000</td>\n",
       "      <td>27.48</td>\n",
       "    </tr>\n",
       "    <tr>\n",
       "      <th>Glimmer, Ender of the Moon</th>\n",
       "      <th>78</th>\n",
       "      <td>5</td>\n",
       "      <td>4.400000</td>\n",
       "      <td>22.00</td>\n",
       "    </tr>\n",
       "    <tr>\n",
       "      <th>Singed Scalpel</th>\n",
       "      <th>103</th>\n",
       "      <td>5</td>\n",
       "      <td>4.350000</td>\n",
       "      <td>21.75</td>\n",
       "    </tr>\n",
       "    <tr>\n",
       "      <th>Lightning, Etcher of the King</th>\n",
       "      <th>59</th>\n",
       "      <td>5</td>\n",
       "      <td>4.230000</td>\n",
       "      <td>21.15</td>\n",
       "    </tr>\n",
       "  </tbody>\n",
       "</table>\n",
       "</div>"
      ],
      "text/plain": [
       "                                       Purchase Count  Item Price  \\\n",
       "Item Name                     Item ID                               \n",
       "Final Critic                  92                    7    4.584286   \n",
       "Fiery Glass Crusader          145                   6    4.580000   \n",
       "Glimmer, Ender of the Moon    78                    5    4.400000   \n",
       "Singed Scalpel                103                   5    4.350000   \n",
       "Lightning, Etcher of the King 59                    5    4.230000   \n",
       "\n",
       "                                       Total Purchase Value  \n",
       "Item Name                     Item ID                        \n",
       "Final Critic                  92                      32.09  \n",
       "Fiery Glass Crusader          145                     27.48  \n",
       "Glimmer, Ender of the Moon    78                      22.00  \n",
       "Singed Scalpel                103                     21.75  \n",
       "Lightning, Etcher of the King 59                      21.15  "
      ]
     },
     "execution_count": 12,
     "metadata": {},
     "output_type": "execute_result"
    }
   ],
   "source": [
    "pop_summary = pop_summary.sort_values([\"Total Purchase Value\"], ascending=False)\n",
    "pop_summary.head()\n"
   ]
  },
  {
   "cell_type": "code",
   "execution_count": null,
   "metadata": {},
   "outputs": [],
   "source": []
  }
 ],
 "metadata": {
  "anaconda-cloud": {},
  "kernel_info": {
   "name": "python3"
  },
  "kernelspec": {
   "display_name": "Python 3",
   "language": "python",
   "name": "python3"
  },
  "language_info": {
   "codemirror_mode": {
    "name": "ipython",
    "version": 3
   },
   "file_extension": ".py",
   "mimetype": "text/x-python",
   "name": "python",
   "nbconvert_exporter": "python",
   "pygments_lexer": "ipython3",
   "version": "3.7.6"
  },
  "latex_envs": {
   "LaTeX_envs_menu_present": true,
   "autoclose": false,
   "autocomplete": true,
   "bibliofile": "biblio.bib",
   "cite_by": "apalike",
   "current_citInitial": 1,
   "eqLabelWithNumbers": true,
   "eqNumInitial": 1,
   "hotkeys": {
    "equation": "Ctrl-E",
    "itemize": "Ctrl-I"
   },
   "labels_anchors": false,
   "latex_user_defs": false,
   "report_style_numbering": false,
   "user_envs_cfg": false
  },
  "nteract": {
   "version": "0.2.0"
  }
 },
 "nbformat": 4,
 "nbformat_minor": 4
}
